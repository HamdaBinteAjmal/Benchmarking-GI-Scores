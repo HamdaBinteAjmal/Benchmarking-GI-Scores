{
 "cells": [
  {
   "cell_type": "code",
   "execution_count": null,
   "id": "4869f1c0",
   "metadata": {
    "scrolled": true
   },
   "outputs": [],
   "source": [
    "# Uncomment the command below if you run this script separately. \n",
    "\n",
    "#%run AnalysisFunctions.ipynb\n"
   ]
  },
  {
   "cell_type": "code",
   "execution_count": null,
   "id": "7fedba22",
   "metadata": {},
   "outputs": [],
   "source": [
    "#filtered = \"\""
   ]
  },
  {
   "cell_type": "code",
   "execution_count": null,
   "id": "8ef7710b",
   "metadata": {},
   "outputs": [],
   "source": [
    "print(\"Running Ito Analysis\")\n",
    "\n",
    "\n",
    "print(f\"Apply Filter?: {apply_filter}\")\n",
    "\n",
    "if apply_filter.lower() == \"true\":\n",
    "    filtered = \"/Filtered\"\n",
    "    print(\"Compiling results with filtered pairs\")\n",
    "else:\n",
    "    filtered = \"\"\n",
    "    print(\"Compiling results with unfiltered pairs\")\n"
   ]
  },
  {
   "cell_type": "code",
   "execution_count": null,
   "id": "5f137e92",
   "metadata": {},
   "outputs": [],
   "source": [
    "## This screen has some inconsistences with the gene names, so convert them to Entrez ID before analysis.\n",
    "\n",
    "def Convert_Symbols_to_Entrez(entrez_dict, df):\n",
    "    df = reindex_alphbetically(df)\n",
    "    df = df.rename_axis('GENE')\n",
    "    df = df.reset_index()\n",
    "    df[['gene1', 'gene2']] = df['GENE'].str.split('_', expand=True)\n",
    "    df['gene1_Entrez_ID'] = df['gene1'].map(entrez_dict)\n",
    "    df['gene2_Entrez_ID'] = df['gene2'].map(entrez_dict)\n",
    "\n",
    "    missing = df[df['gene1_Entrez_ID'].isna() | df['gene2_Entrez_ID'].isna()].shape\n",
    "    print(\"missing:\")\n",
    "    print(missing)\n",
    "    \n",
    "    df['gene_pair']  = df['gene1_Entrez_ID']+ \"_\" + df['gene2_Entrez_ID']\n",
    "    df = df.set_index('gene_pair')\n",
    "    df = df.drop(columns = ['gene1','gene2','gene1_Entrez_ID','gene2_Entrez_ID', 'GENE'])\n",
    "    \n",
    "    df = df[df.index.notna()]\n",
    "    return(df)"
   ]
  },
  {
   "cell_type": "code",
   "execution_count": null,
   "id": "c870de34",
   "metadata": {},
   "outputs": [],
   "source": [
    "# Gene name to Entrez ID data dowloaded from https://www.genenames.org/\n",
    "dtype_specification = {'NCBI Gene ID': str}\n",
    "genenames = pd.read_csv('../InputData/genenames.txt', delimiter = \"\\t\",\n",
    "                        dtype=dtype_specification)\n",
    "genenames\n",
    "\n",
    "genenames = genenames[['Approved symbol', 'NCBI Gene ID']]\n",
    "genenames = genenames.rename(columns = {'NCBI Gene ID':'Entrez ID'})\n",
    "\n",
    "genenames = genenames.dropna(subset=['Entrez ID'])\n",
    "\n",
    "\n",
    "entrez_dict = dict(zip(genenames['Approved symbol'], genenames['Entrez ID']))\n"
   ]
  },
  {
   "cell_type": "code",
   "execution_count": null,
   "id": "6c0affc3",
   "metadata": {},
   "outputs": [],
   "source": [
    "ground_truth_depmap_hit_entrez = Convert_Symbols_to_Entrez(entrez_dict, ground_truth_depmap_hit)\n",
    "Koferle_entrez = Convert_Symbols_to_Entrez(entrez_dict, Koferle)"
   ]
  },
  {
   "cell_type": "code",
   "execution_count": null,
   "id": "70848509",
   "metadata": {},
   "outputs": [],
   "source": [
    "# zdLFC doesnt drop ny pairs so filtered or unfiltered doesnt make a difference \n",
    "zdLFC = pd.read_csv(\"../zdLFC Scripts/zdLFC Output/ITO.csv\")\n",
    "zdLFC = pd.read_csv(\"C:\\\\Users\\\\Hamda\\\\OneDrive\\\\Documents\\\\GitHub\\\\PostDoc\\\\Conway\\\\Research\\\\GIScoring\\\\Hamda's Work\\\\zdLFC\\\\zdLFC_Output\\\\ITO.csv\")\n",
    "zdLFC = zdLFC.rename(columns={zdLFC.columns[0]: 'gene_pair'})\n",
    "zdLFC = zdLFC.set_index('gene_pair')\n",
    "#zdLFC\n",
    "zdLFC = Convert_Symbols_to_Entrez(entrez_dict, zdLFC)\n",
    "zdLFC = zdLFC * -1\n",
    "zdLFC ## missing are due to entrez mapping, not due to score"
   ]
  },
  {
   "cell_type": "code",
   "execution_count": null,
   "id": "d73b56ca",
   "metadata": {},
   "outputs": [],
   "source": [
    "orthrus = pd.read_csv(\"../Orthrus Scripts/OrthrusOutput\" + filtered + \"/ito_orthrus.tsv\", sep='\\t')\n",
    "#display(orthrus)\n",
    "orthrus = orthrus.filter(like='differential', axis=1) \\\n",
    "                    .join(orthrus.filter(items=['gene1','gene2']))\n",
    "orthrus.columns = orthrus.columns.str.replace('differential_combn_vs_single_', '')\n",
    "\n",
    "orthrus['gene_pair'] = orthrus['gene1'] + \"_\" +orthrus['gene2']\n",
    "orthrus = orthrus.set_index('gene_pair')\n",
    "orthrus.drop(columns = ['gene1', 'gene2'], inplace = True)\n",
    "orthrus = Convert_Symbols_to_Entrez(entrez_dict, orthrus)\n",
    "#count_nan_rows = a.index.isna().sum()\n",
    "#count_nan_rows # 104 rows are missing\n",
    "orthrus = orthrus * -1\n",
    "orthrus"
   ]
  },
  {
   "cell_type": "code",
   "execution_count": null,
   "id": "df6d8947",
   "metadata": {},
   "outputs": [],
   "source": [
    "gemini_SensL = pd.read_csv(\"../Gemini Scripts/GeminiOutput\" + filtered + \"/Gemini_ITO_Sensitive.csv\")\n",
    "gemini_SensL.rename({'Unnamed: 0':'gene_pair'}, inplace = True, axis = 1)\n",
    "gemini_SensL['gene_pair'] =gemini_SensL['gene_pair'].str.replace(';', '_')\n",
    "gemini_SensL.set_index('gene_pair', inplace = True)\n",
    "#display(gemini_SensL[gemini_SensL.isnull().any(axis=1)])\n",
    "\n",
    "gemini_SensL = Convert_Symbols_to_Entrez(entrez_dict, gemini_SensL)\n",
    "\n",
    "\n"
   ]
  },
  {
   "cell_type": "code",
   "execution_count": null,
   "id": "4859731f",
   "metadata": {},
   "outputs": [],
   "source": [
    "gemini_Strong = pd.read_csv(\"../Gemini Scripts/GeminiOutput\" + filtered + \"/Gemini_ITO_Strong.csv\")\n",
    "gemini_Strong.rename({'Unnamed: 0':'gene_pair'}, inplace = True, axis = 1)\n",
    "gemini_Strong['gene_pair'] =gemini_Strong['gene_pair'].str.replace(';', '_')\n",
    "gemini_Strong.set_index('gene_pair', inplace = True)\n",
    "gemini_Strong = Convert_Symbols_to_Entrez(entrez_dict, gemini_Strong)\n",
    "\n",
    "gemini_Strong"
   ]
  },
  {
   "cell_type": "code",
   "execution_count": null,
   "id": "c69bdc27",
   "metadata": {},
   "outputs": [],
   "source": [
    "# Parrish doesnt drop any pairs either \n",
    "parrish_score = pd.read_csv('../Parrish Score Scripts/ParrishOutput/ito_parrish.csv')\n",
    "parrish_score.set_index('paralog_pair', inplace=True)\n",
    "parrish_score = Convert_Symbols_to_Entrez(entrez_dict, parrish_score)\n",
    "parrish_score = parrish_score * -1\n",
    "parrish_score"
   ]
  },
  {
   "cell_type": "code",
   "execution_count": null,
   "id": "11a00de9",
   "metadata": {
    "scrolled": true
   },
   "outputs": [],
   "source": [
    "Ito_A549 = pd.concat([zdLFC['A549'],\n",
    "                      orthrus['A549'],\n",
    "                      gemini_Strong['A549'],\n",
    "                      gemini_SensL['A549'],\n",
    "                      parrish_score['GI_score_A549']\n",
    "                      ], axis = 1, keys=scores)\n",
    "\n",
    "\n",
    "\n",
    "results_ito_A549 = Cell_Line_Analysis(Ito_A549, 'A549', 'Ito', \n",
    "                   scores, ground_truth_depmap_hit_entrez)\n"
   ]
  },
  {
   "cell_type": "code",
   "execution_count": null,
   "id": "f0bf912b",
   "metadata": {},
   "outputs": [],
   "source": [
    "Ito_Meljuso = pd.concat([zdLFC['Meljuso'],\n",
    "                      orthrus['Meljuso'],\n",
    "                      gemini_Strong['Meljuso'],\n",
    "                      gemini_SensL['Meljuso'],\n",
    "                      parrish_score['GI_score_Meljuso']\n",
    "                      ], keys= scores, axis = 1)\n",
    "\n",
    "\n",
    "results_ito_Meljuso = Cell_Line_Analysis(Ito_Meljuso, 'Meljuso', 'Ito', \n",
    "                   scores, ground_truth_depmap_hit_entrez)\n"
   ]
  },
  {
   "cell_type": "code",
   "execution_count": null,
   "id": "5c594a17",
   "metadata": {},
   "outputs": [],
   "source": [
    "Ito_GI1 = pd.concat([zdLFC['GI1_004'],\n",
    "                      orthrus['GT1'],\n",
    "                      gemini_Strong['GI1_004'],\n",
    "                      gemini_SensL['GI1_004'],\n",
    "                      parrish_score['GI_score_GI1']\n",
    "\n",
    "                      ], keys= scores, axis = 1)\n",
    "\n",
    "\n",
    "results_ito_GI1 = Cell_Line_Analysis(Ito_GI1, 'GI1', 'Ito', \n",
    "                   scores, ground_truth_depmap_hit_entrez)\n"
   ]
  },
  {
   "cell_type": "code",
   "execution_count": null,
   "id": "a62659e6",
   "metadata": {},
   "outputs": [],
   "source": [
    "Ito_HS936T = pd.concat([zdLFC['HS936T'],\n",
    "                      orthrus['HS936T'],\n",
    "                      gemini_Strong['HS936T'],\n",
    "                      gemini_SensL['HS936T'],\n",
    "                      parrish_score['GI_score_HS936T']\n",
    "                      ], keys= scores, axis = 1)\n",
    "\n",
    "\n",
    "results_ito_HS936T = Cell_Line_Analysis(Ito_HS936T, 'HS936T', 'Ito', \n",
    "                   scores, ground_truth_depmap_hit_entrez)\n"
   ]
  },
  {
   "cell_type": "code",
   "execution_count": null,
   "id": "7c607ec9",
   "metadata": {},
   "outputs": [],
   "source": [
    "Ito_HS944T = pd.concat([zdLFC['HS944T'],\n",
    "                      orthrus['HS944T'],\n",
    "                      gemini_Strong['HS944T'],\n",
    "                      gemini_SensL['HS944T'],\n",
    "                      parrish_score['GI_score_HS944T']\n",
    "                      ], keys= scores, axis = 1)\n",
    "\n",
    "\n",
    "results_ito_HS944T = Cell_Line_Analysis(Ito_HS944T, 'HS944T', 'Ito', \n",
    "                   scores, ground_truth_depmap_hit_entrez)\n"
   ]
  },
  {
   "cell_type": "code",
   "execution_count": null,
   "id": "d52143ab",
   "metadata": {},
   "outputs": [],
   "source": [
    "Ito_HSC5 = pd.concat([zdLFC['HSC5'],\n",
    "                      orthrus['HSC5'],\n",
    "                      gemini_Strong['HSC5'],\n",
    "                      gemini_SensL['HSC5'],\n",
    "                      parrish_score['GI_score_HSC5']\n",
    "                      ], keys= scores, axis = 1)\n",
    "\n",
    "\n",
    "results_ito_HSC5 = Cell_Line_Analysis(Ito_HSC5, 'HSC5', 'Ito', \n",
    "                   scores, ground_truth_depmap_hit_entrez)\n"
   ]
  },
  {
   "cell_type": "code",
   "execution_count": null,
   "id": "07240163",
   "metadata": {},
   "outputs": [],
   "source": [
    "Ito_IPC298 = pd.concat([zdLFC['IPC298'],\n",
    "                      orthrus['IPC298'],\n",
    "                      gemini_Strong['IPC298'],\n",
    "                      gemini_SensL['IPC298'],\n",
    "                      parrish_score['GI_score_IPC298']\n",
    "                      ], keys= scores, axis = 1)\n",
    "\n",
    "\n",
    "results_ito_IPC298 = Cell_Line_Analysis(Ito_IPC298, 'IPC298', 'Ito', \n",
    "                   scores, ground_truth_depmap_hit_entrez)\n"
   ]
  },
  {
   "cell_type": "code",
   "execution_count": null,
   "id": "c157dd94",
   "metadata": {},
   "outputs": [],
   "source": [
    "Ito_MEL202_003 = pd.concat([zdLFC['MEL202_003'],\n",
    "                      orthrus['MEL202_203'],\n",
    "                      gemini_Strong['MEL202_003'],\n",
    "                      gemini_SensL['MEL202_003'],\n",
    "                      parrish_score['GI_score_MEL202']\n",
    "                      ], keys= scores, axis = 1)\n",
    "\n",
    "\n",
    "results_ito_MEL202_003 = Cell_Line_Analysis(Ito_MEL202_003, 'MEL202_003', 'Ito', \n",
    "                   scores, ground_truth_depmap_hit_entrez)\n"
   ]
  },
  {
   "cell_type": "code",
   "execution_count": null,
   "id": "19abbcac",
   "metadata": {},
   "outputs": [],
   "source": [
    "Ito_MEWO = pd.concat([zdLFC['MEWO'],\n",
    "                      orthrus['MEWO'],\n",
    "                      gemini_Strong['MEWO'],\n",
    "                      gemini_SensL['MEWO'],\n",
    "                      parrish_score['GI_score_MEWO']\n",
    "                      ], keys= scores, axis = 1)\n",
    "\n",
    "\n",
    "results_ito_MEWO = Cell_Line_Analysis(Ito_MEWO, 'MEWO', 'Ito', \n",
    "                   scores, ground_truth_depmap_hit_entrez)\n",
    "\n",
    "\n"
   ]
  },
  {
   "cell_type": "code",
   "execution_count": null,
   "id": "fcf9d3a5",
   "metadata": {
    "scrolled": false
   },
   "outputs": [],
   "source": [
    "Ito_PATU8988S = pd.concat([zdLFC['PATU8988S'],\n",
    "                      orthrus['PATU8988S'],\n",
    "                      gemini_Strong['PATU8988S'],\n",
    "                      gemini_SensL['PATU8988S'],\n",
    "                      parrish_score['GI_score_PATU8988S']\n",
    "                      ], keys= scores, axis = 1)\n",
    "\n",
    "\n",
    "results_ito_PATU8988S = Cell_Line_Analysis(Ito_PATU8988S, 'PATU8988S', 'Ito', \n",
    "                   scores, ground_truth_depmap_hit_entrez)\n"
   ]
  },
  {
   "cell_type": "code",
   "execution_count": null,
   "id": "8199084a",
   "metadata": {},
   "outputs": [],
   "source": [
    "Ito_PK1 = pd.concat([zdLFC['PK1'],\n",
    "                      orthrus['PK1'],\n",
    "                      gemini_Strong['PK1'],\n",
    "                      gemini_SensL['PK1'],\n",
    "                      parrish_score['GI_score_PK1']\n",
    "                      ], keys= scores, axis = 1)\n",
    "\n",
    "\n",
    "results_ito_PK1 = Cell_Line_Analysis(Ito_PK1, 'PK1', 'Ito', \n",
    "                   scores, ground_truth_depmap_hit_entrez)\n"
   ]
  },
  {
   "cell_type": "code",
   "execution_count": null,
   "id": "84ca0f6c",
   "metadata": {},
   "outputs": [],
   "source": [
    "full_list = [results_ito_A549, results_ito_GI1, results_ito_HS936T,\n",
    "             results_ito_HS944T, results_ito_HSC5, results_ito_IPC298,\n",
    "             results_ito_MEL202_003, results_ito_Meljuso, results_ito_PATU8988S, results_ito_PK1, results_ito_MEWO]\n",
    "\n",
    "roc, pr = ConvertResultsToDF(full_list )\n",
    "\n",
    "## Write results to a file\n",
    "roc.to_csv(\"Output\" + filtered + \"/Ito_ROC_DepMapHits.csv\", index=False)\n",
    "pr.to_csv(\"Output\"  + filtered + \"/Ito_PR_DepMapHits.csv\", index=False)\n"
   ]
  },
  {
   "cell_type": "code",
   "execution_count": null,
   "id": "d7bd955c",
   "metadata": {},
   "outputs": [],
   "source": [
    "ito_all = pd.concat([Ito_A549, Ito_GI1, Ito_HS936T, \n",
    "                     Ito_HS944T, Ito_HSC5, Ito_IPC298, \n",
    "                     Ito_MEL202_003, Ito_Meljuso, Ito_MEWO, \n",
    "                     Ito_PATU8988S, Ito_PK1])\n",
    "ito_all\n",
    "results_ito_all = Cell_Line_Analysis(ito_all, 'All', 'Ito', scores, ground_truth_depmap_hit_entrez)\n",
    "roc_all, pr_all = ConvertResultsToDF([results_ito_all] )\n",
    "## Write results to a file\n",
    "roc_all.to_csv(\"Output\" + filtered + \"/Ito_All_ROC_DepMapHits.csv\", index=False)\n",
    "pr_all.to_csv(\"Output\" + filtered + \"/Ito_All_PR_DepMapHits.csv\", index=False)\n"
   ]
  },
  {
   "cell_type": "code",
   "execution_count": null,
   "id": "3f573628",
   "metadata": {},
   "outputs": [],
   "source": [
    "\n",
    "results_ito_all_Koferle = Cell_Line_Analysis(ito_all, 'All', 'Ito', scores, Koferle_entrez)\n",
    "roc_all_Koferle, pr_all_Koferle  = ConvertResultsToDF([results_ito_all_Koferle] )\n",
    "## Write results to a file\n",
    "roc_all_Koferle.to_csv(\"Output\" + filtered + \"/Ito_All_ROC_Koferle.csv\", index=False)\n",
    "pr_all_Koferle.to_csv(\"Output\" + filtered+ \"/Ito_All_PR_Koferle.csv\", index=False)\n"
   ]
  },
  {
   "cell_type": "code",
   "execution_count": null,
   "id": "536d2f22",
   "metadata": {},
   "outputs": [],
   "source": [
    "results_ito_A549_Koferle = Cell_Line_Analysis(Ito_A549, 'A549', 'Ito', \n",
    "                   scores, Koferle_entrez)\n",
    "results_ito_Meljuso_Koferle = Cell_Line_Analysis(Ito_Meljuso, 'Meljuso', 'Ito', \n",
    "                   scores, Koferle_entrez)\n",
    "results_ito_GI1_Koferle = Cell_Line_Analysis(Ito_GI1, 'GI1', 'Ito', \n",
    "                   scores, Koferle_entrez)\n",
    "results_ito_HS936T_Koferle = Cell_Line_Analysis(Ito_HS936T, 'HS936T', 'Ito', \n",
    "                   scores, Koferle_entrez)\n",
    "results_ito_HS944T_Koferle = Cell_Line_Analysis(Ito_HS944T, 'HS944T', 'Ito', \n",
    "                   scores, Koferle_entrez)\n",
    "results_ito_HSC5_Koferle = Cell_Line_Analysis(Ito_HSC5, 'HSC5', 'Ito', \n",
    "                   scores, Koferle_entrez)\n",
    "results_ito_IPC298_Koferle = Cell_Line_Analysis(Ito_IPC298, 'IPC298', 'Ito', \n",
    "                   scores, Koferle_entrez)\n",
    "results_ito_MEL202_003_Koferle = Cell_Line_Analysis(Ito_MEL202_003, 'MEL202_003', 'Ito', \n",
    "                   scores, Koferle_entrez)\n",
    "results_ito_MEWO_Koferle = Cell_Line_Analysis(Ito_MEWO, 'MEWO', 'Ito', \n",
    "                   scores, Koferle_entrez)\n",
    "results_ito_PATU8988S_Koferle = Cell_Line_Analysis(Ito_PATU8988S, 'PATU8988S', 'Ito', \n",
    "                   scores, Koferle_entrez)\n",
    "results_ito_PK1_Koferle = Cell_Line_Analysis(Ito_PK1, 'PK1', 'Ito', \n",
    "                   scores, Koferle_entrez)\n",
    "\n",
    "\n",
    "full_list = [results_ito_A549_Koferle, results_ito_Meljuso_Koferle, results_ito_GI1_Koferle,\n",
    "             results_ito_HS936T_Koferle, results_ito_HS944T_Koferle, results_ito_HSC5_Koferle,\n",
    "             results_ito_IPC298_Koferle, results_ito_MEL202_003_Koferle, results_ito_MEWO_Koferle, \n",
    "             results_ito_PATU8988S_Koferle, results_ito_PK1_Koferle]\n",
    "\n",
    "roc_Koferle, pr_Koferle = ConvertResultsToDF(full_list )\n",
    "\n",
    "## Write results to a file\n",
    "roc_Koferle.to_csv(\"Output\" + filtered + \"/Ito_ROC_Koferle.csv\", index=False)\n",
    "pr_Koferle.to_csv(\"Output\" + filtered + \"/Ito_PR_Koferle.csv\", index=False)\n"
   ]
  },
  {
   "cell_type": "code",
   "execution_count": null,
   "id": "b9f70b04",
   "metadata": {},
   "outputs": [],
   "source": [
    "\n",
    "output_path = \"Output\" + filtered + \"\\Comparison\"\n",
    "ito_all.corr(method = \"spearman\").to_csv(output_path + \"\\Ito_Correlations.csv\")\n",
    "Ito_A549_J = jaccard_similarity(Ito_A549, 0.95)\n",
    "Ito_GI1_J = jaccard_similarity(Ito_GI1, 0.95)\n",
    "Ito_HS936T_J = jaccard_similarity(Ito_HS936T, 0.95)\n",
    "Ito_HS944T_J = jaccard_similarity(Ito_HS944T, 0.95)\n",
    "Ito_HSC5_J = jaccard_similarity(Ito_HSC5, 0.95)\n",
    "Ito_IPC298_J = jaccard_similarity(Ito_IPC298, 0.95)\n",
    "Ito_MEL202_003_J = jaccard_similarity(Ito_MEL202_003, 0.95)\n",
    "Ito_Meljuso_J = jaccard_similarity(Ito_Meljuso, 0.95)\n",
    "Ito_MEWO_J = jaccard_similarity(Ito_MEWO, 0.95)\n",
    "Ito_PATU8988S_J = jaccard_similarity(Ito_PATU8988S, 0.95)\n",
    "Ito_PK1_J = jaccard_similarity(Ito_PK1, 0.95)\n",
    "\n"
   ]
  },
  {
   "cell_type": "code",
   "execution_count": null,
   "id": "269811ae",
   "metadata": {},
   "outputs": [],
   "source": [
    "Ito_A549_J.to_csv(output_path + \"\\Ito_A549_Jaccard.csv\")\n",
    "Ito_GI1_J.to_csv(output_path + \"\\Ito_GI1_Jaccard.csv\")\n",
    "Ito_HS936T_J.to_csv(output_path + \"\\Ito_HS936T_Jaccard.csv\")\n",
    "Ito_HS944T_J.to_csv(output_path + \"\\Ito_HS944T_Jaccard.csv\")\n",
    "Ito_HSC5_J.to_csv(output_path + \"\\Ito_HSC5_Jaccard.csv\")\n",
    "Ito_IPC298_J.to_csv(output_path + \"\\Ito_IPC298_Jaccard.csv\")\n",
    "Ito_MEL202_003_J.to_csv(output_path + \"\\Ito_MEL202_003_Jaccard.csv\")\n",
    "\n",
    "Ito_Meljuso_J.to_csv(output_path + \"\\Ito_Meljuso_Jaccard.csv\")# = jaccard_similarity(Ito_Meljuso, 0.95)\n",
    "Ito_MEWO_J.to_csv(output_path + \"\\Ito_MEWO_Jaccard.csv\") #= jaccard_similarity(Ito_MEWO, 0.95)\n",
    "Ito_PATU8988S_J.to_csv(output_path + \"\\Ito_PATU8988S_Jaccard.csv\") # = jaccard_similarity(Ito_PATU8988S, 0.95)\n",
    "Ito_PK1_J.to_csv(output_path + \"\\Ito_PK2_Jaccard.csv\") #= jaccard_similarity(Ito_PK1, 0.95)\n",
    "\n",
    "Ito_Jaccard = (Ito_A549_J + Ito_GI1_J + Ito_HS936T_J + Ito_HS944T_J + Ito_HSC5_J + Ito_IPC298_J + \n",
    "    Ito_MEL202_003_J + Ito_Meljuso_J + Ito_MEWO_J + Ito_PATU8988S_J + Ito_PK1_J )/11\n",
    "Ito_Jaccard.to_csv(output_path + \"\\Ito_Jaccard.csv\")"
   ]
  }
 ],
 "metadata": {
  "kernelspec": {
   "display_name": "Python 3",
   "language": "python",
   "name": "python3"
  },
  "language_info": {
   "codemirror_mode": {
    "name": "ipython",
    "version": 3
   },
   "file_extension": ".py",
   "mimetype": "text/x-python",
   "name": "python",
   "nbconvert_exporter": "python",
   "pygments_lexer": "ipython3",
   "version": "3.11.9"
  }
 },
 "nbformat": 4,
 "nbformat_minor": 5
}
