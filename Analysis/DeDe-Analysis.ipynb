{
 "cells": [
  {
   "cell_type": "code",
   "execution_count": null,
   "id": "00474107",
   "metadata": {
    "scrolled": true
   },
   "outputs": [],
   "source": [
    "\n",
    "# If you run this notebook separately, uncomment this line\n",
    "#%run AnalysisFunctions.ipynb\n"
   ]
  },
  {
   "cell_type": "code",
   "execution_count": null,
   "id": "5aee7e35",
   "metadata": {},
   "outputs": [],
   "source": [
    "#filtered = \"\""
   ]
  },
  {
   "cell_type": "code",
   "execution_count": null,
   "id": "d49aee71",
   "metadata": {},
   "outputs": [],
   "source": [
    "print(\"Running Dede Analysis\")\n",
    "\n",
    "\n",
    "print(f\"Apply Filter?: {apply_filter}\")\n",
    "\n",
    "if apply_filter.lower() == \"true\":\n",
    "    filtered = \"/Filtered\"\n",
    "    print(\"Compiling results with filtered pairs\")\n",
    "else:\n",
    "    filtered = \"\"\n",
    "    print(\"Compiling results with unfiltered pairs\")"
   ]
  },
  {
   "cell_type": "code",
   "execution_count": null,
   "id": "489d9164",
   "metadata": {},
   "outputs": [],
   "source": [
    "# zdLFC does not filter out anything so filtered = unfiltered\n",
    "zdLFC = pd.read_csv(\"../zdLFC Scripts/zdLFC Output/DeDe_zdLFC.csv\")\n",
    "\n",
    "zdLFC = zdLFC.rename(columns={zdLFC.columns[0]: 'GENE'})\n",
    "\n",
    "zdLFC = zdLFC.set_index('GENE')\n",
    "zdLFC\n",
    "zdLFC = reindex_alphbetically(zdLFC)\n",
    "zdLFC = -1 * zdLFC\n",
    "zdLFC\n"
   ]
  },
  {
   "cell_type": "code",
   "execution_count": null,
   "id": "5e04292d",
   "metadata": {},
   "outputs": [],
   "source": [
    "orthrus = pd.read_csv(\"../Orthrus Scripts/OrthrusOutput\" + filtered + \"/dede_orthrus.tsv\", sep='\\t')\n",
    "orthrus['GENE'] = orthrus['gene1'] + \"_\" + orthrus['gene2']\n",
    "\n",
    "orthrus =  orthrus[['GENE','differential_combn_vs_single_A549', 'differential_combn_vs_single_HT29',  'differential_combn_vs_single_OVCAR8']]\n",
    "orthrus = orthrus.rename(columns={'differential_combn_vs_single_A549': 'A549', 'differential_combn_vs_single_HT29': 'HT29', 'differential_combn_vs_single_OVCAR8': 'OVCAR8'})\n",
    "orthrus = orthrus.set_index('GENE')\n",
    "orthrus = reindex_alphbetically(orthrus)\n",
    "orthrus = orthrus * -1\n",
    "orthrus\n"
   ]
  },
  {
   "cell_type": "code",
   "execution_count": null,
   "id": "185601db",
   "metadata": {},
   "outputs": [],
   "source": [
    "gemini_sens = pd.read_csv(\"../Gemini Scripts/GeminiOutput\" + filtered + \"/Gemini_Dede_Sensitive_Lethality.csv\")\n",
    "gemini_sens = gemini_sens.rename(columns={gemini_sens.columns[0]: 'gene_pair'})\n",
    "gemini_sens['gene_pair'] = gemini_sens['gene_pair'].str.replace(';', '_')\n",
    "gemini_sens = gemini_sens.set_index('gene_pair')\n",
    "gemini_sens = reindex_alphbetically(gemini_sens)\n"
   ]
  },
  {
   "cell_type": "code",
   "execution_count": null,
   "id": "2c0f853d",
   "metadata": {},
   "outputs": [],
   "source": [
    "gemini_strong = pd.read_csv(\"../Gemini Scripts/GeminiOutput\" + filtered + \"/Gemini_Dede_Strong.csv\")\n",
    "gemini_strong = gemini_strong.rename(columns={gemini_strong.columns[0]: 'gene_pair'})\n",
    "gemini_strong['gene_pair'] = gemini_strong['gene_pair'].str.replace(';', '_')\n",
    "gemini_strong = gemini_strong.set_index('gene_pair')\n",
    "gemini_strong = reindex_alphbetically(gemini_strong)\n"
   ]
  },
  {
   "cell_type": "code",
   "execution_count": null,
   "id": "7e132ec6",
   "metadata": {},
   "outputs": [],
   "source": [
    "# load the latest parrish \n",
    "# Parrish also does not filter out any pairs so didnt run it by remnoving filtering steps\n",
    "parrish = pd.read_csv('../Parrish Score Scripts/ParrishOutput/Dede_Parrish.csv')\n",
    "parrish.set_index('paralog_pair', inplace = True)\n",
    "\n",
    "parrish = reindex_alphbetically(parrish)\n",
    "parrish = parrish * -1\n",
    "parrish"
   ]
  },
  {
   "cell_type": "code",
   "execution_count": null,
   "id": "2613346c",
   "metadata": {
    "scrolled": false
   },
   "outputs": [],
   "source": [
    "Dede_A549 = pd.concat([zdLFC['A549'], orthrus['A549'],  gemini_strong['A549'],gemini_sens['A549'], parrish['GI_score_A549']], axis = 1,\n",
    "                     keys= scores)\n",
    "\n",
    "results_Dede_A549 = Cell_Line_Analysis(Dede_A549, 'A549', 'Dede', scores, ground_truth_depmap_hit)\n",
    "\n"
   ]
  },
  {
   "cell_type": "code",
   "execution_count": null,
   "id": "3db3383b",
   "metadata": {
    "scrolled": false
   },
   "outputs": [],
   "source": [
    "# thankfull not major changes in aupr and auroc\n",
    "Dede_HT29 = pd.concat([zdLFC['HT29'], orthrus['HT29'], gemini_strong['HT29'], gemini_sens['HT29'], parrish['GI_score_HT29']], axis = 1,\n",
    "                     keys=scores)\n",
    "\n",
    "results_Dede_HT29 = Cell_Line_Analysis(Dede_HT29, 'HT29', 'Dede', scores, ground_truth_depmap_hit)\n",
    "\n"
   ]
  },
  {
   "cell_type": "code",
   "execution_count": null,
   "id": "47e46d12",
   "metadata": {},
   "outputs": [],
   "source": [
    "Dede_OVCAR8 = pd.concat([zdLFC['OVCAR8'], orthrus['OVCAR8'], gemini_strong['OVCAR8'], gemini_sens['OVCAR8'], parrish['GI_score_OVCAR8']], axis = 1,\n",
    "                     keys=scores)\n",
    "\n",
    "results_Dede_OVCAR8 = Cell_Line_Analysis(Dede_OVCAR8, 'OVCAR8', 'Dede', scores,ground_truth_depmap_hit)\n",
    "\n"
   ]
  },
  {
   "cell_type": "code",
   "execution_count": null,
   "id": "a0898788",
   "metadata": {},
   "outputs": [],
   "source": [
    "full_list = [results_Dede_A549, results_Dede_HT29, results_Dede_OVCAR8]\n",
    "roc, pr = ConvertResultsToDF(full_list)"
   ]
  },
  {
   "cell_type": "code",
   "execution_count": null,
   "id": "d5ffbf11",
   "metadata": {},
   "outputs": [],
   "source": [
    "## Write results to a file\n",
    "roc.to_csv(\"Output\" + filtered + \"/Dede_ROC_DepMapHits.csv\", index=False)\n",
    "pr.to_csv(\"Output\" + filtered + \"/Dede_PR_DepMapHits.csv\", index=False)\n"
   ]
  },
  {
   "cell_type": "code",
   "execution_count": null,
   "id": "2a9a1291",
   "metadata": {},
   "outputs": [],
   "source": [
    "# combine all cell lines and then repeat analysis\n",
    "dede_all = pd.concat([Dede_A549, Dede_OVCAR8,Dede_HT29])\n",
    "dede_all\n",
    "results_Dede_All = Cell_Line_Analysis(dede_all, 'All', 'Dede', scores, ground_truth_depmap_hit)\n",
    "\n",
    "\n",
    "roc_all, pr_all = ConvertResultsToDF([results_Dede_All] )\n"
   ]
  },
  {
   "cell_type": "code",
   "execution_count": null,
   "id": "01f0abf4",
   "metadata": {},
   "outputs": [],
   "source": [
    "dede_all.corr(method = \"spearman\").to_csv(\"Output\" + filtered + \"/Dede_Correlation.csv\")"
   ]
  },
  {
   "cell_type": "code",
   "execution_count": null,
   "id": "57c579c7",
   "metadata": {},
   "outputs": [],
   "source": [
    "## Write results to a file\n",
    "roc_all.to_csv(\"Output\" + filtered + \"/Dede_All_ROC_DepMapHits.csv\", index=False)\n",
    "pr_all.to_csv(\"Output\" + filtered + \"/Dede_All_PR_DepMapHits.csv\", index=False)\n"
   ]
  },
  {
   "cell_type": "code",
   "execution_count": null,
   "id": "f37fb95b",
   "metadata": {},
   "outputs": [],
   "source": [
    " ##### NOW USE GROUND TRUTH KORLEFE 1  #######\n",
    "\n",
    "results_Dede_A549_korlefe =Cell_Line_Analysis(Dede_A549, 'A549', 'Dede', scores, Koferle)\n",
    "results_Dede_HT29_korlefe =Cell_Line_Analysis(Dede_HT29, 'HT29', 'Dede', scores, Koferle)\n",
    "results_Dede_OVCAR8_korlefe =Cell_Line_Analysis(Dede_OVCAR8, 'OVCAR8', 'Dede', scores, Koferle)\n",
    "\n",
    "full_list_Koferle = [results_Dede_A549_korlefe, results_Dede_HT29_korlefe,results_Dede_OVCAR8_korlefe ]\n",
    "roc_Koferle, pr_Koferle = ConvertResultsToDF(full_list_Koferle )\n",
    "\n",
    "\n",
    "roc_Koferle.to_csv(\"Output\" + filtered + \"/Dede_ROC_Koferle.csv\", index=False)\n",
    "pr_Koferle.to_csv(\"Output\" + filtered + \"/Dede_PR_Koferle.csv\", index=False)\n",
    "\n",
    "\n",
    "results_Dede_all_Koferle = Cell_Line_Analysis(dede_all, 'All', 'Dede', scores, Koferle)\n",
    "\n",
    "roc_all_Koferle, pr_all_Koferle = ConvertResultsToDF([results_Dede_all_Koferle] )\n",
    "\n",
    "roc_all_Koferle.to_csv(\"Output\" + filtered + \"/Dede_All_ROC_Koferle.csv\", index=False)\n",
    "pr_all_Koferle.to_csv(\"Output\" + filtered + \"/Dede_All_PR_Koferle.csv\", index=False)\n"
   ]
  },
  {
   "cell_type": "code",
   "execution_count": null,
   "id": "56b4cabc",
   "metadata": {},
   "outputs": [],
   "source": [
    "## Jaccard Similarity for gene pairs\n",
    "Dede_OVCAR8_ = jaccard_similarity(Dede_OVCAR8, 0.95)\n",
    "Dede_A549_ = jaccard_similarity(Dede_A549, 0.95)\n",
    "Dede_HT29_ = jaccard_similarity(Dede_HT29, 0.95)"
   ]
  },
  {
   "cell_type": "code",
   "execution_count": null,
   "id": "520fa5ef",
   "metadata": {},
   "outputs": [],
   "source": [
    "Dede_OVCAR8_.to_csv(\"Output\" + filtered + \"\\Comparison\\Dede_OVCAR8_Jaccard.csv\")\n",
    "Dede_A549_.to_csv(\"Output\" + filtered + \"\\Comparison\\Dede_A549_Jaccard.csv\")\n",
    "Dede_HT29_.to_csv(\"Output\" + filtered + \"\\Comparison\\Dede_HT29_Jaccard.csv\")\n",
    "Dede_Jaccard = (Dede_OVCAR8_ + Dede_A549_ +Dede_HT29_ ) / 3\n",
    "Dede_Jaccard.to_csv(\"Output\" + filtered + \"\\Comparison\\Dede_Jaccard.csv\")"
   ]
  },
  {
   "cell_type": "code",
   "execution_count": null,
   "id": "46ab7305",
   "metadata": {},
   "outputs": [],
   "source": [
    "dede_all.corr(method = \"spearman\").to_csv(\"Output\" + filtered + \"\\Comparison\\Dede_Correlations.csv\")"
   ]
  }
 ],
 "metadata": {
  "kernelspec": {
   "display_name": "Python 3 (ipykernel)",
   "language": "python",
   "name": "python3"
  },
  "language_info": {
   "codemirror_mode": {
    "name": "ipython",
    "version": 3
   },
   "file_extension": ".py",
   "mimetype": "text/x-python",
   "name": "python",
   "nbconvert_exporter": "python",
   "pygments_lexer": "ipython3",
   "version": "3.10.9"
  }
 },
 "nbformat": 4,
 "nbformat_minor": 5
}
