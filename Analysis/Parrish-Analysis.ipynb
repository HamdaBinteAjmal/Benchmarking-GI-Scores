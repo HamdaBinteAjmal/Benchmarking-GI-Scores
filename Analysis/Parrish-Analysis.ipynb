{
 "cells": [
  {
   "cell_type": "code",
   "execution_count": null,
   "id": "ca7f46f6",
   "metadata": {},
   "outputs": [],
   "source": [
    "## NOTe that HELA never converged for GEMINI\n",
    "# Uncomment the command below if you run this script separately. \n",
    "\n",
    "#%run AnalysisFunctions.ipynb\n"
   ]
  },
  {
   "cell_type": "code",
   "execution_count": null,
   "id": "44534cd8",
   "metadata": {},
   "outputs": [],
   "source": [
    "print(\"Running Parrish Analysis\")\n",
    "\n",
    "\n",
    "print(f\"Apply Filter?: {apply_filter}\")\n",
    "\n",
    "if apply_filter.lower() == \"true\":\n",
    "    filtered = \"/Filtered\"\n",
    "    print(\"Compiling results with filtered pairs\")\n",
    "else:\n",
    "    filtered = \"\"\n",
    "    print(\"Compiling results with unfiltered pairs\")"
   ]
  },
  {
   "cell_type": "code",
   "execution_count": null,
   "id": "11acfd5b",
   "metadata": {},
   "outputs": [],
   "source": [
    "# In this file, I will analyses calculated scores for the Parrish screen\n",
    "\n",
    "# Start loading calculated scores \n",
    "# For zdLFC, filtered is same as unfiltered because it doesnt filter out anything\n",
    "zdLFC_Hela = pd.read_csv(\"../zdLFC Scripts/zdLFC Output/Parrish_Hela.csv\")\n",
    "zdLFC_Hela = zdLFC_Hela.rename(columns={zdLFC_Hela.columns[0]: 'GENE'})\n",
    "zdLFC_Hela = zdLFC_Hela.set_index('GENE')\n",
    "\n",
    "\n",
    "zdLFC_PC9 = pd.read_csv(\"../zdLFC Scripts/zdLFC Output/Parrish_PC9.csv\")\n",
    "zdLFC_PC9 = zdLFC_PC9.rename(columns={zdLFC_PC9.columns[0]: 'GENE'})\n",
    "zdLFC_PC9 = zdLFC_PC9.set_index('GENE')\n",
    "\n",
    "zdLFC = pd.concat([zdLFC_Hela, zdLFC_PC9], axis = 1)\n",
    "zdLFC = -1 * zdLFC\n",
    "zdLFC\n"
   ]
  },
  {
   "cell_type": "code",
   "execution_count": null,
   "id": "a9c7bfe0",
   "metadata": {},
   "outputs": [],
   "source": [
    "orthrus = pd.read_csv(\"../Orthrus Scripts/OrthrusOutput\" + filtered + \"/parrish_orthrus.tsv\", sep='\\t')\n",
    "orthrus['GENE'] = orthrus['gene1'] + \"_\" + orthrus['gene2']\n",
    "orthrus = orthrus.filter(like='differential', axis=1).join(orthrus.filter(items=['GENE']))\n",
    "orthrus = orthrus.rename(columns={'differential_combn_vs_single_PC9': 'PC9', \n",
    "                                  'differential_combn_vs_single_HeLa': 'HeLa'})\n",
    "orthrus = orthrus.set_index('GENE')\n",
    "orthrus = reindex_alphbetically(orthrus)\n",
    "orthrus = orthrus * -1\n",
    "orthrus\n"
   ]
  },
  {
   "cell_type": "code",
   "execution_count": null,
   "id": "091dce97",
   "metadata": {},
   "outputs": [],
   "source": [
    "Hela_gemini_Sens_L = pd.read_csv(\"../Gemini Scripts/GeminiOutput\" + filtered + \"/Gemini_Parrish_HeLa_Sensitive.csv\")\n",
    "Hela_gemini_Sens_L.rename({ \"Unnamed: 0\": \"gene_pair\"}, inplace = True, axis = 1)\n",
    "Hela_gemini_Sens_L['gene_pair'] = Hela_gemini_Sens_L['gene_pair'].replace(':', '_', regex=True)\n",
    "Hela_gemini_Sens_L.set_index('gene_pair', inplace = True)\n",
    "Hela_gemini_Sens_L  = reindex_alphbetically(Hela_gemini_Sens_L )\n",
    "\n",
    "display(Hela_gemini_Sens_L) \n",
    "\n",
    "\n",
    "\n",
    "Hela_gemini_Strong = pd.read_csv(\"../Gemini Scripts/GeminiOutput\" + filtered + \"/Gemini_Parrish_HeLa_Strong.csv\")\n",
    "Hela_gemini_Strong.rename({ \"Unnamed: 0\": \"gene_pair\"}, inplace = True, axis = 1)\n",
    "Hela_gemini_Strong['gene_pair'] = Hela_gemini_Strong['gene_pair'].replace(':', '_', regex=True)\n",
    "Hela_gemini_Strong.set_index('gene_pair', inplace = True)\n",
    "\n",
    "Hela_gemini_Strong  = reindex_alphbetically(Hela_gemini_Strong )#\n",
    "\n",
    "\n",
    "display(Hela_gemini_Strong) \n",
    "\n",
    "PC9_gemini_Sens_L = pd.read_csv(\"../Gemini Scripts/GeminiOutput\" + filtered + \"/Gemini_Parrish_PC9_Sensitive.csv\")\n",
    "PC9_gemini_Sens_L.rename({ \"Unnamed: 0\": \"gene_pair\"}, inplace = True, axis = 1)\n",
    "PC9_gemini_Sens_L['gene_pair'] = PC9_gemini_Sens_L['gene_pair'].replace(':', '_', regex=True)\n",
    "PC9_gemini_Sens_L.set_index('gene_pair', inplace = True)\n",
    "PC9_gemini_Sens_L  = reindex_alphbetically(PC9_gemini_Sens_L )\n",
    "\n",
    "PC9_gemini_Sens_L \n",
    "\n",
    "\n",
    "\n",
    "PC9_gemini_Strong = pd.read_csv(\"../Gemini Scripts/GeminiOutput\" + filtered + \"/Gemini_Parrish_PC9_Strong.csv\")\n",
    "PC9_gemini_Strong.rename({ \"Unnamed: 0\": \"gene_pair\"}, inplace = True, axis = 1)\n",
    "PC9_gemini_Strong['gene_pair'] = PC9_gemini_Strong['gene_pair'].replace(':', '_', regex=True)\n",
    "PC9_gemini_Strong.set_index('gene_pair', inplace = True)\n",
    "\n",
    "PC9_gemini_Strong  = reindex_alphbetically(PC9_gemini_Strong )#\n",
    "PC9_gemini_Strong "
   ]
  },
  {
   "cell_type": "code",
   "execution_count": null,
   "id": "5ea7817f",
   "metadata": {},
   "outputs": [],
   "source": [
    "# Parrish doesnt filter out any pairs so filtered is same as unfiltered\n",
    "parrish = pd.read_csv(\"../Parrish Score Scripts/ParrishOutput/Parrish_Parrish.csv\")\n",
    "parrish.set_index('paralog_pair', inplace = True)\n",
    "parrish  = reindex_alphbetically(parrish )#\n",
    "\n",
    "parrish = parrish * -1\n",
    "parrish\n"
   ]
  },
  {
   "cell_type": "code",
   "execution_count": null,
   "id": "71e6f3ad",
   "metadata": {},
   "outputs": [],
   "source": [
    "# HELA\n",
    "Parrish_HeLa = pd.concat([zdLFC['HeLa'],\n",
    "                          orthrus['HeLa'],\n",
    "                          Hela_gemini_Strong['HeLa_LTP'],\n",
    "                          Hela_gemini_Sens_L['HeLa_LTP'],\n",
    "                          parrish['HeLa']], axis = 1, keys=scores)\n",
    "\n",
    "results_Parrish_HeLa = Cell_Line_Analysis(Parrish_HeLa, 'HeLa', 'Parrish', \n",
    "                   scores,ground_truth_depmap_hit)\n",
    "\n"
   ]
  },
  {
   "cell_type": "code",
   "execution_count": null,
   "id": "fe940803",
   "metadata": {},
   "outputs": [],
   "source": [
    "# PC9\n",
    "Parrish_PC9 = pd.concat([zdLFC['PC9'],\n",
    "                          orthrus['PC9'],                          \n",
    "                          PC9_gemini_Strong['PC9_LTP'],\n",
    "                            PC9_gemini_Sens_L['PC9_LTP'],\n",
    "                          parrish['PC9']\n",
    "                                  \n",
    "                      ], axis = 1, keys=scores)\n",
    "results_Parrish_PC9 = Cell_Line_Analysis(Parrish_PC9, 'PC9', 'Parrish', \n",
    "                   scores, ground_truth_depmap_hit)\n",
    "\n"
   ]
  },
  {
   "cell_type": "code",
   "execution_count": null,
   "id": "a03f9499",
   "metadata": {},
   "outputs": [],
   "source": [
    "full_list = [results_Parrish_PC9, results_Parrish_HeLa]\n",
    "\n",
    "roc, pr = ConvertResultsToDF(full_list )\n",
    "roc\n",
    "## Write results to a file\n",
    "roc.to_csv(\"Output\" + filtered + \"/Parrish_ROC_DepMapHits.csv\", index=False)\n",
    "pr.to_csv(\"Output\"  + filtered +  \"/Parrish_PR_DepMapHits.csv\", index=False)\n"
   ]
  },
  {
   "cell_type": "code",
   "execution_count": null,
   "id": "49009a41",
   "metadata": {},
   "outputs": [],
   "source": [
    "parrish_all = pd.concat([Parrish_HeLa, Parrish_PC9])\n",
    "results_parrish_all = Cell_Line_Analysis(parrish_all, 'All', 'Parrish', \n",
    "                   scores, ground_truth_depmap_hit)\n",
    "\n",
    "roc_all, pr_all = ConvertResultsToDF([results_parrish_all] )\n",
    "## Write results to a file\n",
    "roc_all.to_csv(\"Output\" + filtered + \"/Parrish_All_ROC_DepMapHits.csv\", index=False)\n",
    "pr_all.to_csv(\"Output\" + filtered+ \"/Parrish_All_PR_DepMapHits.csv\", index=False)\n"
   ]
  },
  {
   "cell_type": "code",
   "execution_count": null,
   "id": "013068d3",
   "metadata": {},
   "outputs": [],
   "source": [
    "results_Parrish_PC9_Koferle = Cell_Line_Analysis(Parrish_PC9, 'PC9', 'Parrish', \n",
    "                   scores, Koferle)\n",
    "results_Parrish_HeLa_Koferle = Cell_Line_Analysis(Parrish_HeLa, 'HeLa', 'Parrish', \n",
    "                   scores,Koferle)\n",
    "\n",
    "full_list = [results_Parrish_PC9_Koferle, results_Parrish_HeLa_Koferle]\n",
    "\n",
    "roc_Koferle, pr_Koferle = ConvertResultsToDF(full_list)\n",
    "\n",
    "## Write results to a file\n",
    "roc_Koferle.to_csv(\"Output\" + filtered + \"/Parrish_ROC_Koferle.csv\", index=False)\n",
    "pr_Koferle.to_csv(\"Output\" + filtered + \"/Parrish_PR_Koferle.csv\", index=False)\n"
   ]
  },
  {
   "cell_type": "code",
   "execution_count": null,
   "id": "be83d7f8",
   "metadata": {},
   "outputs": [],
   "source": [
    "# combine all cell lines and then repeat analysis\n",
    "results_parrish_all_Koferle = Cell_Line_Analysis(parrish_all, 'All', 'Parrish', scores, Koferle)\n",
    "\n",
    "roc_all_Koferle, pr_all_Koferle= ConvertResultsToDF([results_parrish_all_Koferle] )\n",
    "## Write results to a file\n",
    "roc_all_Koferle.to_csv(\"Output\" + filtered + \"/Parrish_All_ROC_Koferle.csv\", index=False)\n",
    "pr_all_Koferle.to_csv(\"Output\" + filtered + \"/Parrish_All_PR_Koferle.csv\", index=False)\n"
   ]
  },
  {
   "cell_type": "code",
   "execution_count": null,
   "id": "b32d0f39",
   "metadata": {},
   "outputs": [],
   "source": [
    "parrish_all.corr(method = \"spearman\").to_csv(\"Output\" + filtered + \"\\Comparison\\Parrish_Correlations.csv\")\n",
    "Parrish_PC9_ = jaccard_similarity(Parrish_PC9, 0.95)\n",
    "Parrish_PC9_.to_csv(\"Output\" + filtered + \"\\Comparison\\Parrish_PC9_Jaccard.csv\")\n",
    "Parrish_HeLa_ = jaccard_similarity(Parrish_HeLa, 0.95)\n",
    "Parrish_HeLa_.to_csv(\"Output\" + filtered + \"\\Comparison\\Parrish_HeLa_Jaccard.csv\")\n",
    "\n",
    "Parrish_Jaccard = (Parrish_HeLa_ + Parrish_HeLa_) / 2\n",
    "Parrish_Jaccard.to_csv(\"Output\" + filtered + \"\\Comparison\\Parrish_Jaccard.csv\")"
   ]
  }
 ],
 "metadata": {
  "kernelspec": {
   "display_name": "Python 3 (ipykernel)",
   "language": "python",
   "name": "python3"
  },
  "language_info": {
   "codemirror_mode": {
    "name": "ipython",
    "version": 3
   },
   "file_extension": ".py",
   "mimetype": "text/x-python",
   "name": "python",
   "nbconvert_exporter": "python",
   "pygments_lexer": "ipython3",
   "version": "3.10.9"
  }
 },
 "nbformat": 4,
 "nbformat_minor": 5
}
