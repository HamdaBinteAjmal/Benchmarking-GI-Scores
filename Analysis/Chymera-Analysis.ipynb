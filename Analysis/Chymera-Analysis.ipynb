{
 "cells": [
  {
   "cell_type": "code",
   "execution_count": null,
   "id": "3742949d",
   "metadata": {},
   "outputs": [],
   "source": [
    "# Calculate AUROC and AUPR for Chymera screen scored using 6 scoring methods."
   ]
  },
  {
   "cell_type": "code",
   "execution_count": null,
   "id": "2a74b5ea",
   "metadata": {},
   "outputs": [],
   "source": [
    "# Uncomment the command below if you run this script separately. \n",
    "#%run AnalysisFunctions.ipynb\n"
   ]
  },
  {
   "cell_type": "code",
   "execution_count": null,
   "id": "324dd138",
   "metadata": {},
   "outputs": [],
   "source": [
    "#filtered = \"\""
   ]
  },
  {
   "cell_type": "code",
   "execution_count": null,
   "id": "b091856c",
   "metadata": {},
   "outputs": [],
   "source": [
    "print(\"Running Chymera Analysis\")\n",
    "\n",
    "\n",
    "print(f\"Apply Filter?: {apply_filter}\")\n",
    "\n",
    "if apply_filter.lower() == \"true\":\n",
    "    filtered = \"/Filtered\"\n",
    "    print(\"Compiling results with filtered pairs\")\n",
    "else:\n",
    "    filtered = \"\"\n",
    "    print(\"Compiling results with unfiltered pairs\")"
   ]
  },
  {
   "cell_type": "code",
   "execution_count": null,
   "id": "b9a68c02",
   "metadata": {},
   "outputs": [],
   "source": [
    "# Load the zdLFC scores\n",
    "# zdLFC does not filter out anything so filtered = unfiltered \n",
    "zdLFC_HAP1 = pd.read_csv(\"../zdLFC Scripts/zdLFC Output/ChymeraHAP1.csv\")\n",
    "zdLFC1_RPE1 = pd.read_csv(\"../zdLFC Scripts/zdLFC Output/ChymeraRPE1.csv\")\n",
    "\n",
    "zdLFC_HAP1 = zdLFC_HAP1.rename(columns={zdLFC_HAP1.columns[0]: 'GENE'})\n",
    "zdLFC_HAP1 = zdLFC_HAP1.set_index('GENE')\n",
    "\n",
    "zdLFC1_RPE1 = zdLFC1_RPE1.rename(columns={zdLFC1_RPE1.columns[0]: 'GENE'})\n",
    "zdLFC1_RPE1 = zdLFC1_RPE1.set_index('GENE')\n",
    "\n",
    "zdLFC = pd.concat([zdLFC_HAP1, zdLFC1_RPE1], axis=1)\n",
    "zdLFC = reindex_alphbetically(zdLFC) # Make sure they are alphabetically ordered\n",
    "\n",
    "zdLFC = -1 * zdLFC # less score -> SL \n",
    "zdLFC"
   ]
  },
  {
   "cell_type": "code",
   "execution_count": null,
   "id": "15e5d6ab",
   "metadata": {},
   "outputs": [],
   "source": [
    "orthrus = pd.read_csv(\"../Orthrus Scripts/OrthrusOutput\" + filtered + \"/chymera_orthrus.tsv\", sep='\\t')\n",
    "orthrus['GENE'] = orthrus['gene1'] + \"_\" + orthrus['gene2']\n",
    "orthrus = orthrus.filter(like='differential', axis=1) \\\n",
    "                    .join(orthrus.filter(items=['GENE']))\n",
    "\n",
    "orthrus = orthrus.rename(columns={'differential_combn_vs_single_HAP1_T12': 'HAP_T12', 'differential_combn_vs_single_HAP1_T18': 'HAP_T18', 'differential_combn_vs_single_RPE1_T18': 'RPE_T18',\n",
    "                                  'differential_combn_vs_single_RPE1_T24': 'RPE_T24'})\n",
    "orthrus = orthrus.set_index('GENE')\n",
    "\n",
    "orthrus = reindex_alphbetically(orthrus)\n",
    "orthrus = orthrus * -1\n"
   ]
  },
  {
   "cell_type": "code",
   "execution_count": null,
   "id": "b2d07080",
   "metadata": {},
   "outputs": [],
   "source": [
    "gemini_strong_HAP1 = pd.read_csv(\"../Gemini Scripts/GeminiOutput\" + filtered + \"/Gemini_Chymera_HAP1_Strong.csv\")\n",
    "gemini_strong_HAP1 = gemini_strong_HAP1.rename(columns={gemini_strong_HAP1.columns[0]: 'gene_pair'})\n",
    "gemini_strong_HAP1['gene_pair'] = gemini_strong_HAP1['gene_pair'].str.replace(';', '_')\n",
    "gemini_strong_HAP1 = gemini_strong_HAP1.set_index('gene_pair')\n",
    "gemini_strong_HAP1 = reindex_alphbetically(gemini_strong_HAP1)\n",
    "gemini_strong_HAP1\n",
    "\n",
    "gemini_strong_RPE1 = pd.read_csv(\"../Gemini Scripts/GeminiOutput\" + filtered + \"/Gemini_Chymera_RPE1_Strong.csv\")\n",
    "gemini_strong_RPE1 = gemini_strong_RPE1.rename(columns={gemini_strong_RPE1.columns[0]: 'gene_pair'})\n",
    "gemini_strong_RPE1['gene_pair'] = gemini_strong_RPE1['gene_pair'].str.replace(';', '_')\n",
    "gemini_strong_RPE1 = gemini_strong_RPE1.set_index('gene_pair')\n",
    "gemini_strong_RPE1 = reindex_alphbetically(gemini_strong_RPE1)\n"
   ]
  },
  {
   "cell_type": "code",
   "execution_count": null,
   "id": "18d47ed6",
   "metadata": {},
   "outputs": [],
   "source": [
    "gemini_SensL_HAP1 = pd.read_csv(\"../Gemini Scripts/GeminiOutput\" + filtered + \"/Gemini_Chymera_HAP1_sensitive_lethality.csv\")\n",
    "gemini_SensL_HAP1 = gemini_SensL_HAP1.rename(columns={gemini_SensL_HAP1.columns[0]: 'gene_pair'})\n",
    "gemini_SensL_HAP1['gene_pair'] = gemini_SensL_HAP1['gene_pair'].str.replace(';', '_')\n",
    "gemini_SensL_HAP1 = gemini_SensL_HAP1.set_index('gene_pair')\n",
    "gemini_SensL_HAP1 = reindex_alphbetically(gemini_SensL_HAP1)\n",
    "gemini_SensL_HAP1\n",
    "\n",
    "\n",
    "gemini_SensL_RPE1 = pd.read_csv(\"../Gemini Scripts/GeminiOutput\" + filtered + \"/Gemini_Chymera_RPE1_sensitive_lethality.csv\")\n",
    "gemini_SensL_RPE1 = gemini_SensL_RPE1.rename(columns={gemini_SensL_RPE1.columns[0]: 'gene_pair'})\n",
    "gemini_SensL_RPE1['gene_pair'] = gemini_SensL_RPE1['gene_pair'].str.replace(';', '_')\n",
    "gemini_SensL_RPE1 = gemini_SensL_RPE1.set_index('gene_pair')\n",
    "gemini_SensL_RPE1 = reindex_alphbetically(gemini_SensL_RPE1)\n"
   ]
  },
  {
   "cell_type": "code",
   "execution_count": null,
   "id": "4618f66a",
   "metadata": {},
   "outputs": [],
   "source": [
    "# No pairs dropped in Parrish\n",
    "parrish_score = pd.read_csv('../Parrish Score Scripts/ParrishOutput/Chymera_Parrish.csv')\n",
    "parrish_score.set_index('paralog_pair', inplace=True)\n",
    "parrish_score = reindex_alphbetically(parrish_score)\n",
    "parrish_score = parrish_score * -1\n",
    "\n",
    "parrish_score"
   ]
  },
  {
   "cell_type": "code",
   "execution_count": null,
   "id": "9e507e6a",
   "metadata": {},
   "outputs": [],
   "source": [
    "# These figures are not included in the paper. \n",
    "Chymera_HAP1_T18 = pd.concat([ # remove T12, its ETP, not needed as per slkb\n",
    "    zdLFC['HAP1.T18'], \n",
    "    orthrus['HAP_T18'], \n",
    "    gemini_strong_HAP1['HAP1.T18'],\n",
    "    gemini_SensL_HAP1['HAP1.T18'],\n",
    "    \n",
    "    parrish_score['GI_score_HAP1']\n",
    "    \n",
    "], axis = 1, keys= scores)\n",
    "\n",
    "#Chymera_HAP1_T12\n",
    "results_Chymera_HAP1_LTP =Cell_Line_Analysis(Chymera_HAP1_T18, 'HAP1.T18', 'CHyMErA', scores, ground_truth_depmap_hit)\n",
    "\n"
   ]
  },
  {
   "cell_type": "code",
   "execution_count": null,
   "id": "080f71de",
   "metadata": {
    "scrolled": true
   },
   "outputs": [],
   "source": [
    "\n",
    "Chymera_RPE1_T24 = pd.concat([zdLFC['RPE1.T24'], orthrus['RPE_T24'],\n",
    "                             gemini_strong_RPE1['RPE1.T24'],\n",
    "                             gemini_SensL_RPE1['RPE1.T24'], \n",
    "                             \n",
    "                              parrish_score['GI_score_RPE1']], axis = 1, keys=scores)\n",
    "\n",
    "results_Chymera_RPE1_LTP = Cell_Line_Analysis(Chymera_RPE1_T24, 'RPE1.T24', 'CHyMErA', scores, ground_truth_depmap_hit)\n"
   ]
  },
  {
   "cell_type": "code",
   "execution_count": null,
   "id": "e2dbafee",
   "metadata": {},
   "outputs": [],
   "source": [
    "\n",
    "full_list = [results_Chymera_HAP1_LTP, results_Chymera_RPE1_LTP]\n",
    "\n",
    "roc, pr = ConvertResultsToDF(full_list )\n",
    "\n",
    "## Write results to a file\n",
    "roc.to_csv(\"Output\" + filtered + \"/Chymera_ROC_DepMapHits.csv\", index=False)\n",
    "pr.to_csv(\"Output\" + filtered + \"/Chymera_PR_DepMapHits.csv\", index=False)\n"
   ]
  },
  {
   "cell_type": "code",
   "execution_count": null,
   "id": "44495a41",
   "metadata": {},
   "outputs": [],
   "source": [
    "\n",
    "# combine all cell lines and then repeat analysis\n",
    "chymera_all = pd.concat([Chymera_HAP1_T18, Chymera_RPE1_T24])\n",
    "results_chymera_all = Cell_Line_Analysis(chymera_all, 'All', 'CHyMErA', scores, ground_truth_depmap_hit)\n",
    "\n",
    "roc_all, pr_all = ConvertResultsToDF([results_chymera_all] )\n",
    "## Write results to a file\n",
    "roc_all.to_csv(\"Output\" + filtered+ \"/Chymera_All_ROC_DepMapHits.csv\", index=False)\n",
    "pr_all.to_csv(\"Output\" + filtered + \"/Chymera_All_PR_DepMapHits.csv\", index=False)\n"
   ]
  },
  {
   "cell_type": "code",
   "execution_count": null,
   "id": "6de24ad5",
   "metadata": {},
   "outputs": [],
   "source": [
    " ##### NOW USE GROUND TRUTH KORLEFE BENCHMARK  #######\n",
    "chymera_all = pd.concat([Chymera_HAP1_T18, Chymera_RPE1_T24])\n",
    "\n",
    "results_Chymera_HAP1_LTP_korlefe =Cell_Line_Analysis(Chymera_HAP1_T18, 'HAP1.T18', 'CHyMErA', scores, Koferle)\n",
    "results_Chymera_RPE1_LTP_korlefe =Cell_Line_Analysis(Chymera_RPE1_T24, 'RPE1.T24', 'CHyMErA', scores, Koferle)\n",
    "\n",
    "full_list_Koferle = [results_Chymera_HAP1_LTP_korlefe, results_Chymera_RPE1_LTP_korlefe]\n",
    "roc_Koferle, pr_Koferle = ConvertResultsToDF(full_list_Koferle )\n",
    "\n",
    "\n",
    "roc_Koferle.to_csv(\"Output\" + filtered+ \"/Chymera_ROC_Koferle.csv\", index=False)\n",
    "pr_Koferle.to_csv(\"Output\" + filtered+ \"/Chymera_PR_Koferle.csv\", index=False)\n",
    "\n",
    "\n",
    "results_chymera_all_Koferle = Cell_Line_Analysis(chymera_all, 'All', 'CHyMErA', scores, Koferle)\n",
    "\n",
    "roc_all_Koferle, pr_all_Koferle = ConvertResultsToDF([results_chymera_all_Koferle] )\n",
    "## Write results to a file\n",
    "\n",
    "roc_all_Koferle.to_csv(\"Output\" + filtered + \"/Chymera_All_ROC_Koferle.csv\", index=False)\n",
    "pr_all_Koferle.to_csv(\"Output\" + filtered + \"/Chymera_All_PR_Koferle.csv\", index=False)\n",
    "\n"
   ]
  },
  {
   "cell_type": "code",
   "execution_count": null,
   "id": "84b95c67",
   "metadata": {},
   "outputs": [],
   "source": [
    "#chymera_all = pd.concat([Chymera_HAP1_T18, Chymera_RPE1_T24])\n",
    "output_path = \"Output\" + filtered + \"\\Comparison\"\n",
    "# thompson_all = pd.concat([Thompson_A375, Thompson_MEWO, Thompson_RPE])\n",
    "chymera_all.corr(method = \"spearman\").to_csv(output_path + \"\\Chymera_Correlations.csv\")"
   ]
  },
  {
   "cell_type": "code",
   "execution_count": null,
   "id": "40f426db",
   "metadata": {},
   "outputs": [],
   "source": [
    "Chymera_HAP1_T18_J = jaccard_similarity(Chymera_HAP1_T18, 0.95)\n",
    "Chymera_HAP1_T18_J.to_csv(output_path + \"\\Chymera_HAP1_Jaccard.csv\")\n",
    "\n",
    "Chymera_RPE1_T24_J = jaccard_similarity(Chymera_RPE1_T24, 0.95)\n",
    "Chymera_RPE1_T24_J.to_csv(output_path + \"\\Chymera_RPE1_Jaccard.csv\")\n",
    "\n",
    "Chymera_Jaccard = (Chymera_HAP1_T18_J + Chymera_RPE1_T24_J) / 2\n",
    "Chymera_Jaccard"
   ]
  },
  {
   "cell_type": "code",
   "execution_count": null,
   "id": "522e883b",
   "metadata": {},
   "outputs": [],
   "source": [
    "Chymera_Jaccard.to_csv(output_path + \"\\Chymera_Jaccard.csv\")"
   ]
  }
 ],
 "metadata": {
  "kernelspec": {
   "display_name": "Python 3 (ipykernel)",
   "language": "python",
   "name": "python3"
  },
  "language_info": {
   "codemirror_mode": {
    "name": "ipython",
    "version": 3
   },
   "file_extension": ".py",
   "mimetype": "text/x-python",
   "name": "python",
   "nbconvert_exporter": "python",
   "pygments_lexer": "ipython3",
   "version": "3.10.9"
  }
 },
 "nbformat": 4,
 "nbformat_minor": 5
}
